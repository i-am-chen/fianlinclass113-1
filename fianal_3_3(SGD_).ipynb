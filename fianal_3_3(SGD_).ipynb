{
  "nbformat": 4,
  "nbformat_minor": 0,
  "metadata": {
    "colab": {
      "provenance": [],
      "authorship_tag": "ABX9TyNIc+r69IDPIGXX7jA1woh7",
      "include_colab_link": true
    },
    "kernelspec": {
      "name": "python3",
      "display_name": "Python 3"
    },
    "language_info": {
      "name": "python"
    }
  },
  "cells": [
    {
      "cell_type": "markdown",
      "metadata": {
        "id": "view-in-github",
        "colab_type": "text"
      },
      "source": [
        "<a href=\"https://colab.research.google.com/github/i-am-chen/fianlinclass113-1/blob/main/fianal_3_3(SGD_).ipynb\" target=\"_parent\"><img src=\"https://colab.research.google.com/assets/colab-badge.svg\" alt=\"Open In Colab\"/></a>"
      ]
    },
    {
      "cell_type": "code",
      "execution_count": 1,
      "metadata": {
        "id": "Mn-dIivnxF4y"
      },
      "outputs": [],
      "source": [
        "import tensorflow as tf\n",
        "from tensorflow.keras.layers import (\n",
        "    Embedding, LSTM, Dense, Input, Bidirectional, MultiHeadAttention, LayerNormalization\n",
        ")\n",
        "from tensorflow.keras.models import Model\n",
        "from tensorflow.keras.datasets import imdb\n",
        "from tensorflow.keras.preprocessing.sequence import pad_sequences\n",
        "from sklearn.model_selection import train_test_split\n",
        "from tensorflow.keras.callbacks import EarlyStopping\n",
        "from tensorflow.keras.optimizers import RMSprop, SGD, Adam"
      ]
    },
    {
      "cell_type": "code",
      "source": [
        "# 資料集載入與處理\n",
        "# 載入 IMDB 資料集\n",
        "(x_train, y_train), (x_test, y_test) = imdb.load_data(num_words=10000)\n",
        "\n",
        "# 填充序列到相同長度\n",
        "maxlen = 300\n",
        "x_train = pad_sequences(x_train, maxlen=maxlen, padding='post')\n",
        "x_test = pad_sequences(x_test, maxlen=maxlen, padding='post')\n",
        "\n",
        "# 分割訓練集與驗證集\n",
        "x_train, x_val, y_train, y_val = train_test_split(x_train, y_train, test_size=0.2, random_state=42)\n",
        "\n",
        "# 建立 LSTM + Transformer 模型\n",
        "def create_lstm_transformer_model(vocab_size, embed_dim, lstm_units, transformer_units, num_heads):\n",
        "    # 輸入層\n",
        "    inputs = Input(shape=(None,))\n",
        "\n",
        "    # 嵌入層\n",
        "    x = Embedding(input_dim=vocab_size, output_dim=embed_dim)(inputs)\n",
        "\n",
        "    # 雙向 LSTM\n",
        "    lstm_out = Bidirectional(LSTM(lstm_units, return_sequences=True))(x)\n",
        "\n",
        "    # Transformer 層\n",
        "    attention_out = MultiHeadAttention(num_heads=num_heads, key_dim=transformer_units)(lstm_out, lstm_out)\n",
        "    norm_out = LayerNormalization()(attention_out + lstm_out)\n",
        "\n",
        "    # 平均池化 - 使用 Keras 的 Lambda 層來包裝 tf.reduce_mean\n",
        "    pooled_out = tf.keras.layers.Lambda(lambda x: tf.reduce_mean(x, axis=1))(norm_out)\n",
        "\n",
        "    # 全連接層\n",
        "    outputs = Dense(1, activation='sigmoid')(pooled_out)\n",
        "\n",
        "    # 模型\n",
        "    model = Model(inputs, outputs)\n",
        "    return model\n",
        "\n",
        "# 模型參數\n",
        "vocab_size = 10000\n",
        "embed_dim = 128\n",
        "lstm_units = 64\n",
        "transformer_units = 128\n",
        "num_heads = 8\n",
        "\n",
        "# 建立模型\n",
        "model = create_lstm_transformer_model(vocab_size, embed_dim, lstm_units=256, transformer_units=128, num_heads=4)\n",
        "\n",
        "early_stopping = EarlyStopping(monitor='val_loss', patience=3, restore_best_weights=True)\n",
        "\n",
        "# 使用 SGD 優化器\n",
        "model.compile(optimizer=SGD(learning_rate=0.001, momentum=0.9),\n",
        "              loss='binary_crossentropy',  # 使用交叉熵\n",
        "              metrics=['accuracy'])\n",
        "\n",
        "history = model.fit(\n",
        "    x_train, y_train,\n",
        "    validation_data=(x_val, y_val),\n",
        "    epochs=20,\n",
        "    batch_size=32,\n",
        "    callbacks=[early_stopping]\n",
        ")\n",
        "# 評估模型\n",
        "test_loss, test_acc = model.evaluate(x_test, y_test)\n",
        "print(f\"測試準確率: {test_acc:.4f}\")\n",
        "\n"
      ],
      "metadata": {
        "colab": {
          "base_uri": "https://localhost:8080/"
        },
        "id": "gyIF4VL4xwpk",
        "outputId": "78063c04-0a67-4ba8-ffe1-591e8a865611"
      },
      "execution_count": 2,
      "outputs": [
        {
          "output_type": "stream",
          "name": "stdout",
          "text": [
            "Downloading data from https://storage.googleapis.com/tensorflow/tf-keras-datasets/imdb.npz\n",
            "\u001b[1m17464789/17464789\u001b[0m \u001b[32m━━━━━━━━━━━━━━━━━━━━\u001b[0m\u001b[37m\u001b[0m \u001b[1m0s\u001b[0m 0us/step\n",
            "Epoch 1/20\n",
            "\u001b[1m625/625\u001b[0m \u001b[32m━━━━━━━━━━━━━━━━━━━━\u001b[0m\u001b[37m\u001b[0m \u001b[1m54s\u001b[0m 77ms/step - accuracy: 0.5018 - loss: 0.7529 - val_accuracy: 0.4874 - val_loss: 0.8453\n",
            "Epoch 2/20\n",
            "\u001b[1m625/625\u001b[0m \u001b[32m━━━━━━━━━━━━━━━━━━━━\u001b[0m\u001b[37m\u001b[0m \u001b[1m50s\u001b[0m 79ms/step - accuracy: 0.5104 - loss: 0.7225 - val_accuracy: 0.5298 - val_loss: 0.6878\n",
            "Epoch 3/20\n",
            "\u001b[1m625/625\u001b[0m \u001b[32m━━━━━━━━━━━━━━━━━━━━\u001b[0m\u001b[37m\u001b[0m \u001b[1m49s\u001b[0m 78ms/step - accuracy: 0.5158 - loss: 0.7018 - val_accuracy: 0.4876 - val_loss: 0.7136\n",
            "Epoch 4/20\n",
            "\u001b[1m625/625\u001b[0m \u001b[32m━━━━━━━━━━━━━━━━━━━━\u001b[0m\u001b[37m\u001b[0m \u001b[1m49s\u001b[0m 79ms/step - accuracy: 0.5206 - loss: 0.7078 - val_accuracy: 0.5126 - val_loss: 0.6965\n",
            "Epoch 5/20\n",
            "\u001b[1m625/625\u001b[0m \u001b[32m━━━━━━━━━━━━━━━━━━━━\u001b[0m\u001b[37m\u001b[0m \u001b[1m49s\u001b[0m 79ms/step - accuracy: 0.5256 - loss: 0.6980 - val_accuracy: 0.5708 - val_loss: 0.6765\n",
            "Epoch 6/20\n",
            "\u001b[1m625/625\u001b[0m \u001b[32m━━━━━━━━━━━━━━━━━━━━\u001b[0m\u001b[37m\u001b[0m \u001b[1m83s\u001b[0m 80ms/step - accuracy: 0.5561 - loss: 0.6818 - val_accuracy: 0.4886 - val_loss: 0.7605\n",
            "Epoch 7/20\n",
            "\u001b[1m625/625\u001b[0m \u001b[32m━━━━━━━━━━━━━━━━━━━━\u001b[0m\u001b[37m\u001b[0m \u001b[1m50s\u001b[0m 80ms/step - accuracy: 0.5771 - loss: 0.6747 - val_accuracy: 0.5244 - val_loss: 0.6990\n",
            "Epoch 8/20\n",
            "\u001b[1m625/625\u001b[0m \u001b[32m━━━━━━━━━━━━━━━━━━━━\u001b[0m\u001b[37m\u001b[0m \u001b[1m82s\u001b[0m 80ms/step - accuracy: 0.5909 - loss: 0.6674 - val_accuracy: 0.6388 - val_loss: 0.6339\n",
            "Epoch 9/20\n",
            "\u001b[1m625/625\u001b[0m \u001b[32m━━━━━━━━━━━━━━━━━━━━\u001b[0m\u001b[37m\u001b[0m \u001b[1m82s\u001b[0m 80ms/step - accuracy: 0.6193 - loss: 0.6476 - val_accuracy: 0.6578 - val_loss: 0.6190\n",
            "Epoch 10/20\n",
            "\u001b[1m625/625\u001b[0m \u001b[32m━━━━━━━━━━━━━━━━━━━━\u001b[0m\u001b[37m\u001b[0m \u001b[1m82s\u001b[0m 80ms/step - accuracy: 0.6313 - loss: 0.6359 - val_accuracy: 0.6618 - val_loss: 0.6080\n",
            "Epoch 11/20\n",
            "\u001b[1m625/625\u001b[0m \u001b[32m━━━━━━━━━━━━━━━━━━━━\u001b[0m\u001b[37m\u001b[0m \u001b[1m82s\u001b[0m 80ms/step - accuracy: 0.6605 - loss: 0.6124 - val_accuracy: 0.7236 - val_loss: 0.5580\n",
            "Epoch 12/20\n",
            "\u001b[1m625/625\u001b[0m \u001b[32m━━━━━━━━━━━━━━━━━━━━\u001b[0m\u001b[37m\u001b[0m \u001b[1m82s\u001b[0m 80ms/step - accuracy: 0.6973 - loss: 0.5793 - val_accuracy: 0.6852 - val_loss: 0.5827\n",
            "Epoch 13/20\n",
            "\u001b[1m625/625\u001b[0m \u001b[32m━━━━━━━━━━━━━━━━━━━━\u001b[0m\u001b[37m\u001b[0m \u001b[1m82s\u001b[0m 80ms/step - accuracy: 0.7236 - loss: 0.5493 - val_accuracy: 0.7720 - val_loss: 0.4961\n",
            "Epoch 14/20\n",
            "\u001b[1m625/625\u001b[0m \u001b[32m━━━━━━━━━━━━━━━━━━━━\u001b[0m\u001b[37m\u001b[0m \u001b[1m82s\u001b[0m 80ms/step - accuracy: 0.7522 - loss: 0.5116 - val_accuracy: 0.7104 - val_loss: 0.5505\n",
            "Epoch 15/20\n",
            "\u001b[1m625/625\u001b[0m \u001b[32m━━━━━━━━━━━━━━━━━━━━\u001b[0m\u001b[37m\u001b[0m \u001b[1m82s\u001b[0m 80ms/step - accuracy: 0.7712 - loss: 0.4821 - val_accuracy: 0.8170 - val_loss: 0.4220\n",
            "Epoch 16/20\n",
            "\u001b[1m625/625\u001b[0m \u001b[32m━━━━━━━━━━━━━━━━━━━━\u001b[0m\u001b[37m\u001b[0m \u001b[1m82s\u001b[0m 79ms/step - accuracy: 0.7717 - loss: 0.4794 - val_accuracy: 0.8168 - val_loss: 0.4149\n",
            "Epoch 17/20\n",
            "\u001b[1m625/625\u001b[0m \u001b[32m━━━━━━━━━━━━━━━━━━━━\u001b[0m\u001b[37m\u001b[0m \u001b[1m82s\u001b[0m 80ms/step - accuracy: 0.7976 - loss: 0.4397 - val_accuracy: 0.7060 - val_loss: 0.5681\n",
            "Epoch 18/20\n",
            "\u001b[1m625/625\u001b[0m \u001b[32m━━━━━━━━━━━━━━━━━━━━\u001b[0m\u001b[37m\u001b[0m \u001b[1m82s\u001b[0m 80ms/step - accuracy: 0.8115 - loss: 0.4189 - val_accuracy: 0.7708 - val_loss: 0.4739\n",
            "Epoch 19/20\n",
            "\u001b[1m625/625\u001b[0m \u001b[32m━━━━━━━━━━━━━━━━━━━━\u001b[0m\u001b[37m\u001b[0m \u001b[1m82s\u001b[0m 80ms/step - accuracy: 0.8261 - loss: 0.3966 - val_accuracy: 0.7564 - val_loss: 0.5095\n",
            "\u001b[1m782/782\u001b[0m \u001b[32m━━━━━━━━━━━━━━━━━━━━\u001b[0m\u001b[37m\u001b[0m \u001b[1m22s\u001b[0m 28ms/step - accuracy: 0.8080 - loss: 0.4194\n",
            "測試準確率: 0.8066\n"
          ]
        }
      ]
    }
  ]
}