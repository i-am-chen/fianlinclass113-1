{
  "nbformat": 4,
  "nbformat_minor": 0,
  "metadata": {
    "colab": {
      "provenance": [],
      "gpuType": "T4",
      "authorship_tag": "ABX9TyO0+kTxRp8spQ/BNOuWvreT",
      "include_colab_link": true
    },
    "kernelspec": {
      "name": "python3",
      "display_name": "Python 3"
    },
    "language_info": {
      "name": "python"
    },
    "accelerator": "GPU"
  },
  "cells": [
    {
      "cell_type": "markdown",
      "metadata": {
        "id": "view-in-github",
        "colab_type": "text"
      },
      "source": [
        "<a href=\"https://colab.research.google.com/github/i-am-chen/fianlinclass113-1/blob/main/fianal_2_1(_RMSprop).ipynb\" target=\"_parent\"><img src=\"https://colab.research.google.com/assets/colab-badge.svg\" alt=\"Open In Colab\"/></a>"
      ]
    },
    {
      "cell_type": "code",
      "execution_count": 1,
      "metadata": {
        "id": "8kBdyeFBdstq"
      },
      "outputs": [],
      "source": [
        "import tensorflow as tf\n",
        "from tensorflow.keras.layers import (\n",
        "    Embedding, LSTM, Dense, Input, Bidirectional, MultiHeadAttention, LayerNormalization\n",
        ")\n",
        "from tensorflow.keras.models import Model\n",
        "from tensorflow.keras.datasets import imdb\n",
        "from tensorflow.keras.preprocessing.sequence import pad_sequences\n",
        "from sklearn.model_selection import train_test_split\n",
        "from tensorflow.keras.callbacks import EarlyStopping\n",
        "from tensorflow.keras.optimizers import RMSprop, SGD, Adam"
      ]
    },
    {
      "cell_type": "code",
      "source": [
        "# 資料集載入與處理\n",
        "# 載入 IMDB 資料集\n",
        "(x_train, y_train), (x_test, y_test) = imdb.load_data(num_words=10000)\n",
        "\n",
        "# 填充序列到相同長度\n",
        "maxlen = 300\n",
        "x_train = pad_sequences(x_train, maxlen=maxlen, padding='post')\n",
        "x_test = pad_sequences(x_test, maxlen=maxlen, padding='post')\n",
        "\n",
        "# 分割訓練集與驗證集\n",
        "x_train, x_val, y_train, y_val = train_test_split(x_train, y_train, test_size=0.2, random_state=42)\n",
        "\n",
        "# 建立 LSTM + Transformer 模型\n",
        "def create_lstm_transformer_model(vocab_size, embed_dim, lstm_units, transformer_units, num_heads):\n",
        "    # 輸入層\n",
        "    inputs = Input(shape=(None,))\n",
        "\n",
        "    # 嵌入層\n",
        "    x = Embedding(input_dim=vocab_size, output_dim=embed_dim)(inputs)\n",
        "\n",
        "    # 雙向 LSTM\n",
        "    lstm_out = Bidirectional(LSTM(lstm_units, return_sequences=True))(x)\n",
        "\n",
        "    # Transformer 層\n",
        "    attention_out = MultiHeadAttention(num_heads=num_heads, key_dim=transformer_units)(lstm_out, lstm_out)\n",
        "    norm_out = LayerNormalization()(attention_out + lstm_out)\n",
        "\n",
        "    # 平均池化 - 使用 Keras 的 Lambda 層來包裝 tf.reduce_mean\n",
        "    pooled_out = tf.keras.layers.Lambda(lambda x: tf.reduce_mean(x, axis=1))(norm_out)\n",
        "\n",
        "    # 全連接層\n",
        "    outputs = Dense(1, activation='sigmoid')(pooled_out)\n",
        "\n",
        "    # 模型\n",
        "    model = Model(inputs, outputs)\n",
        "    return model\n",
        "\n",
        "# 模型參數\n",
        "vocab_size = 10000\n",
        "embed_dim = 128\n",
        "lstm_units = 64\n",
        "transformer_units = 128\n",
        "num_heads = 8\n",
        "\n",
        "# 建立模型\n",
        "model = create_lstm_transformer_model(vocab_size, embed_dim, lstm_units=64, transformer_units=128, num_heads=4)\n",
        "\n",
        "early_stopping = EarlyStopping(monitor='val_loss', patience=3, restore_best_weights=True)\n",
        "\n",
        "# 使用 RMSprop 優化器\n",
        "model.compile(optimizer=tf.keras.optimizers.RMSprop(learning_rate=0.001),\n",
        "              loss='binary_crossentropy',  # 使用交叉熵\n",
        "              metrics=['accuracy'])\n",
        "\n",
        "history = model.fit(\n",
        "    x_train, y_train,\n",
        "    validation_data=(x_val, y_val),\n",
        "    epochs=10,\n",
        "    batch_size=32,\n",
        "    callbacks=[early_stopping]\n",
        ")\n",
        "# 評估模型\n",
        "test_loss, test_acc = model.evaluate(x_test, y_test)\n",
        "print(f\"測試準確率: {test_acc:.4f}\")\n",
        "\n"
      ],
      "metadata": {
        "colab": {
          "base_uri": "https://localhost:8080/"
        },
        "id": "yRGs8-COd2X3",
        "outputId": "51e8d553-8e7a-4f61-fe54-569dac7881e2"
      },
      "execution_count": 2,
      "outputs": [
        {
          "output_type": "stream",
          "name": "stdout",
          "text": [
            "Downloading data from https://storage.googleapis.com/tensorflow/tf-keras-datasets/imdb.npz\n",
            "\u001b[1m17464789/17464789\u001b[0m \u001b[32m━━━━━━━━━━━━━━━━━━━━\u001b[0m\u001b[37m\u001b[0m \u001b[1m0s\u001b[0m 0us/step\n",
            "Epoch 1/10\n",
            "\u001b[1m625/625\u001b[0m \u001b[32m━━━━━━━━━━━━━━━━━━━━\u001b[0m\u001b[37m\u001b[0m \u001b[1m33s\u001b[0m 43ms/step - accuracy: 0.6283 - loss: 0.6639 - val_accuracy: 0.8642 - val_loss: 0.3264\n",
            "Epoch 2/10\n",
            "\u001b[1m625/625\u001b[0m \u001b[32m━━━━━━━━━━━━━━━━━━━━\u001b[0m\u001b[37m\u001b[0m \u001b[1m28s\u001b[0m 44ms/step - accuracy: 0.8547 - loss: 0.3415 - val_accuracy: 0.8782 - val_loss: 0.2964\n",
            "Epoch 3/10\n",
            "\u001b[1m625/625\u001b[0m \u001b[32m━━━━━━━━━━━━━━━━━━━━\u001b[0m\u001b[37m\u001b[0m \u001b[1m41s\u001b[0m 43ms/step - accuracy: 0.9032 - loss: 0.2442 - val_accuracy: 0.8912 - val_loss: 0.2662\n",
            "Epoch 4/10\n",
            "\u001b[1m625/625\u001b[0m \u001b[32m━━━━━━━━━━━━━━━━━━━━\u001b[0m\u001b[37m\u001b[0m \u001b[1m41s\u001b[0m 44ms/step - accuracy: 0.9241 - loss: 0.2020 - val_accuracy: 0.8890 - val_loss: 0.2720\n",
            "Epoch 5/10\n",
            "\u001b[1m625/625\u001b[0m \u001b[32m━━━━━━━━━━━━━━━━━━━━\u001b[0m\u001b[37m\u001b[0m \u001b[1m41s\u001b[0m 44ms/step - accuracy: 0.9413 - loss: 0.1603 - val_accuracy: 0.8926 - val_loss: 0.2838\n",
            "Epoch 6/10\n",
            "\u001b[1m625/625\u001b[0m \u001b[32m━━━━━━━━━━━━━━━━━━━━\u001b[0m\u001b[37m\u001b[0m \u001b[1m28s\u001b[0m 45ms/step - accuracy: 0.9523 - loss: 0.1333 - val_accuracy: 0.8932 - val_loss: 0.3057\n",
            "\u001b[1m782/782\u001b[0m \u001b[32m━━━━━━━━━━━━━━━━━━━━\u001b[0m\u001b[37m\u001b[0m \u001b[1m13s\u001b[0m 16ms/step - accuracy: 0.8887 - loss: 0.2709\n",
            "測試準確率: 0.8861\n"
          ]
        }
      ]
    }
  ]
}