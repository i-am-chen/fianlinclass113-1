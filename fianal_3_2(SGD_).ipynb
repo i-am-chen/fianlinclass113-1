{
  "nbformat": 4,
  "nbformat_minor": 0,
  "metadata": {
    "colab": {
      "provenance": [],
      "gpuType": "T4",
      "authorship_tag": "ABX9TyNmcquIIgBuqIzCKPs4jRq/",
      "include_colab_link": true
    },
    "kernelspec": {
      "name": "python3",
      "display_name": "Python 3"
    },
    "language_info": {
      "name": "python"
    },
    "accelerator": "GPU"
  },
  "cells": [
    {
      "cell_type": "markdown",
      "metadata": {
        "id": "view-in-github",
        "colab_type": "text"
      },
      "source": [
        "<a href=\"https://colab.research.google.com/github/i-am-chen/fianlinclass113-1/blob/main/fianal_3_2(SGD_).ipynb\" target=\"_parent\"><img src=\"https://colab.research.google.com/assets/colab-badge.svg\" alt=\"Open In Colab\"/></a>"
      ]
    },
    {
      "cell_type": "code",
      "execution_count": 1,
      "metadata": {
        "id": "CZPksC5AL3Bk"
      },
      "outputs": [],
      "source": [
        "import tensorflow as tf\n",
        "from tensorflow.keras.layers import (\n",
        "    Embedding, LSTM, Dense, Input, Bidirectional, MultiHeadAttention, LayerNormalization\n",
        ")\n",
        "from tensorflow.keras.models import Model\n",
        "from tensorflow.keras.datasets import imdb\n",
        "from tensorflow.keras.preprocessing.sequence import pad_sequences\n",
        "from sklearn.model_selection import train_test_split\n",
        "from tensorflow.keras.callbacks import EarlyStopping\n",
        "from tensorflow.keras.optimizers import RMSprop, SGD, Adam"
      ]
    },
    {
      "cell_type": "code",
      "source": [
        "# 資料集載入與處理\n",
        "# 載入 IMDB 資料集\n",
        "(x_train, y_train), (x_test, y_test) = imdb.load_data(num_words=10000)\n",
        "\n",
        "# 填充序列到相同長度\n",
        "maxlen = 300\n",
        "x_train = pad_sequences(x_train, maxlen=maxlen, padding='post')\n",
        "x_test = pad_sequences(x_test, maxlen=maxlen, padding='post')\n",
        "\n",
        "# 分割訓練集與驗證集\n",
        "x_train, x_val, y_train, y_val = train_test_split(x_train, y_train, test_size=0.2, random_state=42)\n",
        "\n",
        "# 建立 LSTM + Transformer 模型\n",
        "def create_lstm_transformer_model(vocab_size, embed_dim, lstm_units, transformer_units, num_heads):\n",
        "    # 輸入層\n",
        "    inputs = Input(shape=(None,))\n",
        "\n",
        "    # 嵌入層\n",
        "    x = Embedding(input_dim=vocab_size, output_dim=embed_dim)(inputs)\n",
        "\n",
        "    # 雙向 LSTM\n",
        "    lstm_out = Bidirectional(LSTM(lstm_units, return_sequences=True))(x)\n",
        "\n",
        "    # Transformer 層\n",
        "    attention_out = MultiHeadAttention(num_heads=num_heads, key_dim=transformer_units)(lstm_out, lstm_out)\n",
        "    norm_out = LayerNormalization()(attention_out + lstm_out)\n",
        "\n",
        "    # 平均池化 - 使用 Keras 的 Lambda 層來包裝 tf.reduce_mean\n",
        "    pooled_out = tf.keras.layers.Lambda(lambda x: tf.reduce_mean(x, axis=1))(norm_out)\n",
        "\n",
        "    # 全連接層\n",
        "    outputs = Dense(1, activation='sigmoid')(pooled_out)\n",
        "\n",
        "    # 模型\n",
        "    model = Model(inputs, outputs)\n",
        "    return model\n",
        "\n",
        "# 模型參數\n",
        "vocab_size = 10000\n",
        "embed_dim = 128\n",
        "lstm_units = 64\n",
        "transformer_units = 128\n",
        "num_heads = 8\n",
        "\n",
        "# 建立模型\n",
        "model = create_lstm_transformer_model(vocab_size, embed_dim, lstm_units=128, transformer_units=128, num_heads=4)\n",
        "\n",
        "early_stopping = EarlyStopping(monitor='val_loss', patience=3, restore_best_weights=True)\n",
        "\n",
        "# 使用 SGD 優化器\n",
        "model.compile(optimizer=SGD(learning_rate=0.005, momentum=0.9),\n",
        "              loss='binary_crossentropy',  # 使用交叉熵\n",
        "              metrics=['accuracy'])\n",
        "\n",
        "history = model.fit(\n",
        "    x_train, y_train,\n",
        "    validation_data=(x_val, y_val),\n",
        "    epochs=20,\n",
        "    batch_size=32,\n",
        "    callbacks=[early_stopping]\n",
        ")\n",
        "# 評估模型\n",
        "test_loss, test_acc = model.evaluate(x_test, y_test)\n",
        "print(f\"測試準確率: {test_acc:.4f}\")\n",
        "\n"
      ],
      "metadata": {
        "colab": {
          "base_uri": "https://localhost:8080/"
        },
        "id": "cNuPiaLoL4os",
        "outputId": "d36c396e-edb5-48bf-a65a-d227829ee077"
      },
      "execution_count": 2,
      "outputs": [
        {
          "output_type": "stream",
          "name": "stdout",
          "text": [
            "Downloading data from https://storage.googleapis.com/tensorflow/tf-keras-datasets/imdb.npz\n",
            "\u001b[1m17464789/17464789\u001b[0m \u001b[32m━━━━━━━━━━━━━━━━━━━━\u001b[0m\u001b[37m\u001b[0m \u001b[1m2s\u001b[0m 0us/step\n",
            "Epoch 1/20\n",
            "\u001b[1m625/625\u001b[0m \u001b[32m━━━━━━━━━━━━━━━━━━━━\u001b[0m\u001b[37m\u001b[0m \u001b[1m38s\u001b[0m 52ms/step - accuracy: 0.5042 - loss: 0.8169 - val_accuracy: 0.5126 - val_loss: 0.6925\n",
            "Epoch 2/20\n",
            "\u001b[1m625/625\u001b[0m \u001b[32m━━━━━━━━━━━━━━━━━━━━\u001b[0m\u001b[37m\u001b[0m \u001b[1m34s\u001b[0m 54ms/step - accuracy: 0.4966 - loss: 0.7209 - val_accuracy: 0.4874 - val_loss: 0.7012\n",
            "Epoch 3/20\n",
            "\u001b[1m625/625\u001b[0m \u001b[32m━━━━━━━━━━━━━━━━━━━━\u001b[0m\u001b[37m\u001b[0m \u001b[1m32s\u001b[0m 52ms/step - accuracy: 0.5010 - loss: 0.7181 - val_accuracy: 0.4874 - val_loss: 0.6964\n",
            "Epoch 4/20\n",
            "\u001b[1m625/625\u001b[0m \u001b[32m━━━━━━━━━━━━━━━━━━━━\u001b[0m\u001b[37m\u001b[0m \u001b[1m41s\u001b[0m 52ms/step - accuracy: 0.5063 - loss: 0.7073 - val_accuracy: 0.5126 - val_loss: 0.6924\n",
            "Epoch 5/20\n",
            "\u001b[1m625/625\u001b[0m \u001b[32m━━━━━━━━━━━━━━━━━━━━\u001b[0m\u001b[37m\u001b[0m \u001b[1m41s\u001b[0m 52ms/step - accuracy: 0.5143 - loss: 0.6972 - val_accuracy: 0.5396 - val_loss: 0.6879\n",
            "Epoch 6/20\n",
            "\u001b[1m625/625\u001b[0m \u001b[32m━━━━━━━━━━━━━━━━━━━━\u001b[0m\u001b[37m\u001b[0m \u001b[1m41s\u001b[0m 52ms/step - accuracy: 0.5348 - loss: 0.6906 - val_accuracy: 0.5154 - val_loss: 0.6864\n",
            "Epoch 7/20\n",
            "\u001b[1m625/625\u001b[0m \u001b[32m━━━━━━━━━━━━━━━━━━━━\u001b[0m\u001b[37m\u001b[0m \u001b[1m41s\u001b[0m 53ms/step - accuracy: 0.5707 - loss: 0.6766 - val_accuracy: 0.5648 - val_loss: 0.6629\n",
            "Epoch 8/20\n",
            "\u001b[1m625/625\u001b[0m \u001b[32m━━━━━━━━━━━━━━━━━━━━\u001b[0m\u001b[37m\u001b[0m \u001b[1m41s\u001b[0m 53ms/step - accuracy: 0.6164 - loss: 0.6500 - val_accuracy: 0.5668 - val_loss: 0.7375\n",
            "Epoch 9/20\n",
            "\u001b[1m625/625\u001b[0m \u001b[32m━━━━━━━━━━━━━━━━━━━━\u001b[0m\u001b[37m\u001b[0m \u001b[1m41s\u001b[0m 53ms/step - accuracy: 0.6887 - loss: 0.5937 - val_accuracy: 0.7190 - val_loss: 0.5500\n",
            "Epoch 10/20\n",
            "\u001b[1m625/625\u001b[0m \u001b[32m━━━━━━━━━━━━━━━━━━━━\u001b[0m\u001b[37m\u001b[0m \u001b[1m41s\u001b[0m 52ms/step - accuracy: 0.7274 - loss: 0.5480 - val_accuracy: 0.7886 - val_loss: 0.4540\n",
            "Epoch 11/20\n",
            "\u001b[1m625/625\u001b[0m \u001b[32m━━━━━━━━━━━━━━━━━━━━\u001b[0m\u001b[37m\u001b[0m \u001b[1m41s\u001b[0m 52ms/step - accuracy: 0.7682 - loss: 0.4824 - val_accuracy: 0.7768 - val_loss: 0.4776\n",
            "Epoch 12/20\n",
            "\u001b[1m625/625\u001b[0m \u001b[32m━━━━━━━━━━━━━━━━━━━━\u001b[0m\u001b[37m\u001b[0m \u001b[1m41s\u001b[0m 52ms/step - accuracy: 0.7969 - loss: 0.4343 - val_accuracy: 0.8378 - val_loss: 0.3882\n",
            "Epoch 13/20\n",
            "\u001b[1m625/625\u001b[0m \u001b[32m━━━━━━━━━━━━━━━━━━━━\u001b[0m\u001b[37m\u001b[0m \u001b[1m33s\u001b[0m 52ms/step - accuracy: 0.8122 - loss: 0.4127 - val_accuracy: 0.8218 - val_loss: 0.3907\n",
            "Epoch 14/20\n",
            "\u001b[1m625/625\u001b[0m \u001b[32m━━━━━━━━━━━━━━━━━━━━\u001b[0m\u001b[37m\u001b[0m \u001b[1m41s\u001b[0m 53ms/step - accuracy: 0.8484 - loss: 0.3526 - val_accuracy: 0.8168 - val_loss: 0.4123\n",
            "Epoch 15/20\n",
            "\u001b[1m625/625\u001b[0m \u001b[32m━━━━━━━━━━━━━━━━━━━━\u001b[0m\u001b[37m\u001b[0m \u001b[1m41s\u001b[0m 52ms/step - accuracy: 0.8510 - loss: 0.3475 - val_accuracy: 0.8546 - val_loss: 0.3461\n",
            "Epoch 16/20\n",
            "\u001b[1m625/625\u001b[0m \u001b[32m━━━━━━━━━━━━━━━━━━━━\u001b[0m\u001b[37m\u001b[0m \u001b[1m41s\u001b[0m 53ms/step - accuracy: 0.8607 - loss: 0.3289 - val_accuracy: 0.8524 - val_loss: 0.3448\n",
            "Epoch 17/20\n",
            "\u001b[1m625/625\u001b[0m \u001b[32m━━━━━━━━━━━━━━━━━━━━\u001b[0m\u001b[37m\u001b[0m \u001b[1m41s\u001b[0m 53ms/step - accuracy: 0.8659 - loss: 0.3219 - val_accuracy: 0.8356 - val_loss: 0.3674\n",
            "Epoch 18/20\n",
            "\u001b[1m625/625\u001b[0m \u001b[32m━━━━━━━━━━━━━━━━━━━━\u001b[0m\u001b[37m\u001b[0m \u001b[1m41s\u001b[0m 53ms/step - accuracy: 0.8750 - loss: 0.2998 - val_accuracy: 0.8698 - val_loss: 0.3146\n",
            "Epoch 19/20\n",
            "\u001b[1m625/625\u001b[0m \u001b[32m━━━━━━━━━━━━━━━━━━━━\u001b[0m\u001b[37m\u001b[0m \u001b[1m33s\u001b[0m 52ms/step - accuracy: 0.8765 - loss: 0.2913 - val_accuracy: 0.8542 - val_loss: 0.3419\n",
            "Epoch 20/20\n",
            "\u001b[1m625/625\u001b[0m \u001b[32m━━━━━━━━━━━━━━━━━━━━\u001b[0m\u001b[37m\u001b[0m \u001b[1m41s\u001b[0m 52ms/step - accuracy: 0.8892 - loss: 0.2691 - val_accuracy: 0.8650 - val_loss: 0.3188\n",
            "\u001b[1m782/782\u001b[0m \u001b[32m━━━━━━━━━━━━━━━━━━━━\u001b[0m\u001b[37m\u001b[0m \u001b[1m15s\u001b[0m 19ms/step - accuracy: 0.8708 - loss: 0.3117\n",
            "測試準確率: 0.8671\n"
          ]
        }
      ]
    }
  ]
}