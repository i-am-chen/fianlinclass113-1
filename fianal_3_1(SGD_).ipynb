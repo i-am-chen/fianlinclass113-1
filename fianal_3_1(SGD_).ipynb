{
  "nbformat": 4,
  "nbformat_minor": 0,
  "metadata": {
    "colab": {
      "provenance": [],
      "authorship_tag": "ABX9TyOhWYWCfVE2BFVqzZehHe4B",
      "include_colab_link": true
    },
    "kernelspec": {
      "name": "python3",
      "display_name": "Python 3"
    },
    "language_info": {
      "name": "python"
    }
  },
  "cells": [
    {
      "cell_type": "markdown",
      "metadata": {
        "id": "view-in-github",
        "colab_type": "text"
      },
      "source": [
        "<a href=\"https://colab.research.google.com/github/i-am-chen/fianlinclass113-1/blob/main/fianal_3_1(SGD_).ipynb\" target=\"_parent\"><img src=\"https://colab.research.google.com/assets/colab-badge.svg\" alt=\"Open In Colab\"/></a>"
      ]
    },
    {
      "cell_type": "code",
      "execution_count": 1,
      "metadata": {
        "id": "FET9Wh6-O2Rm"
      },
      "outputs": [],
      "source": [
        "import tensorflow as tf\n",
        "from tensorflow.keras.layers import (\n",
        "    Embedding, LSTM, Dense, Input, Bidirectional, MultiHeadAttention, LayerNormalization\n",
        ")\n",
        "from tensorflow.keras.models import Model\n",
        "from tensorflow.keras.datasets import imdb\n",
        "from tensorflow.keras.preprocessing.sequence import pad_sequences\n",
        "from sklearn.model_selection import train_test_split\n",
        "from tensorflow.keras.callbacks import EarlyStopping\n",
        "from tensorflow.keras.optimizers import RMSprop, SGD, Adam"
      ]
    },
    {
      "cell_type": "code",
      "source": [
        "# 資料集載入與處理\n",
        "# 載入 IMDB 資料集\n",
        "(x_train, y_train), (x_test, y_test) = imdb.load_data(num_words=10000)\n",
        "\n",
        "# 填充序列到相同長度\n",
        "maxlen = 300\n",
        "x_train = pad_sequences(x_train, maxlen=maxlen, padding='post')\n",
        "x_test = pad_sequences(x_test, maxlen=maxlen, padding='post')\n",
        "\n",
        "# 分割訓練集與驗證集\n",
        "x_train, x_val, y_train, y_val = train_test_split(x_train, y_train, test_size=0.2, random_state=42)\n",
        "\n",
        "# 建立 LSTM + Transformer 模型\n",
        "def create_lstm_transformer_model(vocab_size, embed_dim, lstm_units, transformer_units, num_heads):\n",
        "    # 輸入層\n",
        "    inputs = Input(shape=(None,))\n",
        "\n",
        "    # 嵌入層\n",
        "    x = Embedding(input_dim=vocab_size, output_dim=embed_dim)(inputs)\n",
        "\n",
        "    # 雙向 LSTM\n",
        "    lstm_out = Bidirectional(LSTM(lstm_units, return_sequences=True))(x)\n",
        "\n",
        "    # Transformer 層\n",
        "    attention_out = MultiHeadAttention(num_heads=num_heads, key_dim=transformer_units)(lstm_out, lstm_out)\n",
        "    norm_out = LayerNormalization()(attention_out + lstm_out)\n",
        "\n",
        "    # 平均池化 - 使用 Keras 的 Lambda 層來包裝 tf.reduce_mean\n",
        "    pooled_out = tf.keras.layers.Lambda(lambda x: tf.reduce_mean(x, axis=1))(norm_out)\n",
        "\n",
        "    # 全連接層\n",
        "    outputs = Dense(1, activation='sigmoid')(pooled_out)\n",
        "\n",
        "    # 模型\n",
        "    model = Model(inputs, outputs)\n",
        "    return model\n",
        "\n",
        "# 模型參數\n",
        "vocab_size = 10000\n",
        "embed_dim = 128\n",
        "lstm_units = 64\n",
        "transformer_units = 128\n",
        "num_heads = 8\n",
        "\n",
        "# 建立模型\n",
        "model = create_lstm_transformer_model(vocab_size, embed_dim, lstm_units=64, transformer_units=128, num_heads=4)\n",
        "\n",
        "early_stopping = EarlyStopping(monitor='val_loss', patience=3, restore_best_weights=True)\n",
        "\n",
        "# 使用 SGD 優化器\n",
        "model.compile(optimizer=SGD(learning_rate=0.01, momentum=0.9),\n",
        "              loss='binary_crossentropy',  # 使用交叉熵\n",
        "              metrics=['accuracy'])\n",
        "\n",
        "history = model.fit(\n",
        "    x_train, y_train,\n",
        "    validation_data=(x_val, y_val),\n",
        "    epochs=10,\n",
        "    batch_size=32,\n",
        "    callbacks=[early_stopping]\n",
        ")\n",
        "# 評估模型\n",
        "test_loss, test_acc = model.evaluate(x_test, y_test)\n",
        "print(f\"測試準確率: {test_acc:.4f}\")\n",
        "\n"
      ],
      "metadata": {
        "colab": {
          "base_uri": "https://localhost:8080/"
        },
        "id": "KDvMxTxUO_7Q",
        "outputId": "935100f7-9f91-46a3-e18d-31035f72cd3e"
      },
      "execution_count": 2,
      "outputs": [
        {
          "output_type": "stream",
          "name": "stdout",
          "text": [
            "Downloading data from https://storage.googleapis.com/tensorflow/tf-keras-datasets/imdb.npz\n",
            "\u001b[1m17464789/17464789\u001b[0m \u001b[32m━━━━━━━━━━━━━━━━━━━━\u001b[0m\u001b[37m\u001b[0m \u001b[1m0s\u001b[0m 0us/step\n",
            "Epoch 1/10\n",
            "\u001b[1m625/625\u001b[0m \u001b[32m━━━━━━━━━━━━━━━━━━━━\u001b[0m\u001b[37m\u001b[0m \u001b[1m31s\u001b[0m 41ms/step - accuracy: 0.4941 - loss: 0.8358 - val_accuracy: 0.5126 - val_loss: 0.6931\n",
            "Epoch 2/10\n",
            "\u001b[1m625/625\u001b[0m \u001b[32m━━━━━━━━━━━━━━━━━━━━\u001b[0m\u001b[37m\u001b[0m \u001b[1m25s\u001b[0m 41ms/step - accuracy: 0.5013 - loss: 0.7096 - val_accuracy: 0.4874 - val_loss: 0.6975\n",
            "Epoch 3/10\n",
            "\u001b[1m625/625\u001b[0m \u001b[32m━━━━━━━━━━━━━━━━━━━━\u001b[0m\u001b[37m\u001b[0m \u001b[1m41s\u001b[0m 41ms/step - accuracy: 0.5039 - loss: 0.7041 - val_accuracy: 0.5126 - val_loss: 0.6930\n",
            "Epoch 4/10\n",
            "\u001b[1m625/625\u001b[0m \u001b[32m━━━━━━━━━━━━━━━━━━━━\u001b[0m\u001b[37m\u001b[0m \u001b[1m26s\u001b[0m 41ms/step - accuracy: 0.5004 - loss: 0.6953 - val_accuracy: 0.5126 - val_loss: 0.6951\n",
            "Epoch 5/10\n",
            "\u001b[1m625/625\u001b[0m \u001b[32m━━━━━━━━━━━━━━━━━━━━\u001b[0m\u001b[37m\u001b[0m \u001b[1m41s\u001b[0m 42ms/step - accuracy: 0.5047 - loss: 0.6948 - val_accuracy: 0.4874 - val_loss: 0.6943\n",
            "Epoch 6/10\n",
            "\u001b[1m625/625\u001b[0m \u001b[32m━━━━━━━━━━━━━━━━━━━━\u001b[0m\u001b[37m\u001b[0m \u001b[1m41s\u001b[0m 42ms/step - accuracy: 0.5002 - loss: 0.6937 - val_accuracy: 0.5008 - val_loss: 0.6931\n",
            "\u001b[1m782/782\u001b[0m \u001b[32m━━━━━━━━━━━━━━━━━━━━\u001b[0m\u001b[37m\u001b[0m \u001b[1m13s\u001b[0m 16ms/step - accuracy: 0.4927 - loss: 0.6943\n",
            "測試準確率: 0.5000\n"
          ]
        }
      ]
    }
  ]
}